{
 "cells": [
  {
   "cell_type": "markdown",
   "metadata": {
    "id": "dK6ak4PAmHus"
   },
   "source": [
    "# FNN Digit Recognition"
   ]
  },
  {
   "cell_type": "markdown",
   "metadata": {
    "id": "a6HguOFT1ZSm"
   },
   "source": [
    "## Import dependencies"
   ]
  },
  {
   "cell_type": "code",
   "execution_count": 2,
   "metadata": {
    "id": "kTsRxUxd1H94"
   },
   "outputs": [],
   "source": [
    "import tensorflow as tf\n",
    "from tensorflow import keras\n",
    "import keras_tuner as kt\n",
    "import tensorflowjs as tfjs\n",
    "\n",
    "import numpy as np\n",
    "import matplotlib.pyplot as plt\n",
    "import seaborn as sns"
   ]
  },
  {
   "cell_type": "markdown",
   "metadata": {
    "id": "MHWT6u8f1L95"
   },
   "source": [
    "## Loads the MNIST dataset"
   ]
  },
  {
   "cell_type": "markdown",
   "metadata": {
    "id": "eC5OYuhw2XDf"
   },
   "source": [
    "This is a dataset of 60,000 - 28x28 **grayscale** images of the 10 digits,\n",
    " along with a test set of 10,000 images. More info can be found at the [MNIST homepage](http://yann.lecun.com/exdb/mnist/).\n",
    "\n",
    "![MNIST sample](https://github.com/khanhlvg/DigitClassifier/raw/master/images/mnist.png)"
   ]
  },
  {
   "cell_type": "code",
   "execution_count": 3,
   "metadata": {
    "id": "DjLys3DX2IEj"
   },
   "outputs": [],
   "source": [
    "# load misnt dataset from keras\n",
    "mnist = keras.datasets.mnist\n",
    "# store it into train and test\n",
    "(train_images, train_labels), (test_images, test_labels) = mnist.load_data()"
   ]
  },
  {
   "cell_type": "code",
   "execution_count": 4,
   "metadata": {
    "colab": {
     "base_uri": "https://localhost:8080/",
     "height": 275
    },
    "id": "Oyrcp80Yaayd",
    "outputId": "f02bf27d-37bd-449d-e03e-485b8e97eca0"
   },
   "outputs": [
    {
     "data": {
      "image/png": "[encoded data removed]",
      "text/plain": [
       "<Figure size 288x288 with 1 Axes>"
      ]
     },
     "metadata": {
      "needs_background": "light"
     },
     "output_type": "display_data"
    }
   ],
   "source": [
    "plt.matshow(train_images[1], cmap=\"gray\")\n",
    "plt.show()"
   ]
  },
  {
   "cell_type": "markdown",
   "metadata": {
    "id": "jT8RNDXhQxR0"
   },
   "source": [
    "We can see that the background is colored in black and the digits are colored in white, but this is not how the model gets its input.\n",
    "Usually, digits are written in black in a white background, so we will adjust our training data to reflect that."
   ]
  },
  {
   "cell_type": "code",
   "execution_count": 5,
   "metadata": {
    "id": "3ajPeOznY5ge"
   },
   "outputs": [],
   "source": [
    "# normalize training and testing images\n",
    "# and reverse the color of the images\n",
    "train_images = 1 - (train_images / 255.0)\n",
    "train_labels = train_labels\n",
    "test_images = 1 - (test_images / 225.0)\n",
    "test_labels = test_labels"
   ]
  },
  {
   "cell_type": "code",
   "execution_count": 6,
   "metadata": {
    "colab": {
     "base_uri": "https://localhost:8080/",
     "height": 275
    },
    "id": "NK1iQ0sgZ2aP",
    "outputId": "257aeab9-dab0-4642-cda7-324ea417f8ef"
   },
   "outputs": [
    {
     "data": {
      "image/png": "[encoded data removed]",
      "text/plain": [
       "<Figure size 288x288 with 1 Axes>"
      ]
     },
     "metadata": {
      "needs_background": "light"
     },
     "output_type": "display_data"
    }
   ],
   "source": [
    "# after reversing\n",
    "plt.matshow(train_images[1], cmap=\"gray\")\n",
    "plt.show()"
   ]
  },
  {
   "cell_type": "markdown",
   "metadata": {
    "id": "HlTFugih5THT"
   },
   "source": [
    "28x28 grayscale and 60K samples in the train input.\n",
    "we need to reshape the dataset. into 2D\n",
    "- **Columns**: represents the samples (M)\n",
    "- **Rows**: represents the features (Nx)"
   ]
  },
  {
   "cell_type": "code",
   "execution_count": 7,
   "metadata": {
    "id": "-v64TCEB8poL"
   },
   "outputs": [],
   "source": [
    "def reshape_input(input):\n",
    "    \"\"\"\n",
    "    reshape the 3D input into 2D.\n",
    "\n",
    "    Args:\n",
    "      input: np.array\n",
    "\n",
    "    Return:\n",
    "      flattened_input: np.array\n",
    "    \"\"\"\n",
    "    num_of_features = input.shape[1] * input.shape[2]\n",
    "    num_of_samples = input.shape[0]\n",
    "    flattened_input = input.reshape(num_of_samples, num_of_features)\n",
    "\n",
    "    return flattened_input"
   ]
  },
  {
   "cell_type": "code",
   "execution_count": 8,
   "metadata": {
    "colab": {
     "base_uri": "https://localhost:8080/"
    },
    "id": "HlvG8bft3_XH",
    "outputId": "f744e702-e5ce-4321-9d7d-bfcd3a866fcc"
   },
   "outputs": [
    {
     "data": {
      "text/plain": [
       "((60000, 784), (10000, 784))"
      ]
     },
     "execution_count": 8,
     "metadata": {},
     "output_type": "execute_result"
    }
   ],
   "source": [
    "# reshape inputs train/test\n",
    "train_images_flattened = reshape_input(train_images)\n",
    "test_images_flattened = reshape_input(test_images)\n",
    "\n",
    "train_images_flattened.shape, test_images_flattened.shape"
   ]
  },
  {
   "cell_type": "markdown",
   "metadata": {
    "id": "NR_96iKpX1Gq"
   },
   "source": [
    "## Building the Model"
   ]
  },
  {
   "cell_type": "markdown",
   "metadata": {
    "id": "4J5GlModTnjM"
   },
   "source": [
    "We decided to add noise to the training images because the new sample will come from different distribution by adding some noise to the data that somehow will make the training data close to the new sample that they will come later"
   ]
  },
  {
   "cell_type": "code",
   "execution_count": 9,
   "metadata": {
    "id": "HMEYbx8eUos6"
   },
   "outputs": [],
   "source": [
    "def modeling(units, dropout, learning_rate):\n",
    "    model = keras.Sequential(name=\"Digit-Recognizer\")\n",
    "    model.add(\n",
    "        keras.layers.Dense(\n",
    "            units=units,\n",
    "            input_dim=train_images_flattened.shape[1],\n",
    "            activation=\"relu\",\n",
    "            name=\"hidden_layer_1\",\n",
    "        )\n",
    "    )\n",
    "    # adding noise to the training images\n",
    "    model.add(keras.layers.GaussianNoise(0.075))\n",
    "    # regularization\n",
    "    if dropout:\n",
    "        model.add(keras.layers.Dropout(rate=0.25))\n",
    "    # output layer 10 digits ( classes )\n",
    "    model.add(keras.layers.Dense(units=10, activation=\"softmax\", name=\"output_layer_2\"))\n",
    "\n",
    "    model.compile(\n",
    "        optimizer=keras.optimizers.Adam(learning_rate=learning_rate),\n",
    "        loss=\"sparse_categorical_crossentropy\",\n",
    "        metrics=[\"accuracy\"],\n",
    "    )\n",
    "\n",
    "    return model\n",
    "\n",
    "\n",
    "def build_model(hp):\n",
    "    units = hp.Int(\"units\", min_value=128, max_value=512, step=16)\n",
    "    dropout = hp.Boolean(\"dropout\")\n",
    "    learning_rate = hp.Float(\n",
    "        \"learning_rate\", min_value=1e-4, max_value=1e-2, sampling=\"log\"\n",
    "    )\n",
    "\n",
    "    model = modeling(units=units, dropout=dropout, learning_rate=learning_rate)\n",
    "\n",
    "    return model\n",
    "\n",
    "\n",
    "stop_early = tf.keras.callbacks.EarlyStopping(monitor=\"loss\", patience=5)"
   ]
  },
  {
   "cell_type": "code",
   "execution_count": 10,
   "metadata": {
    "id": "QfdQHaI_WyLX"
   },
   "outputs": [],
   "source": [
    "tuner = kt.RandomSearch(\n",
    "    hypermodel=build_model,\n",
    "    objective=\"accuracy\",\n",
    "    max_trials=10,\n",
    "    executions_per_trial=2,\n",
    "    overwrite=True,\n",
    "    directory=\"DR-TRIALS\",\n",
    "    project_name=\"Digit Recognizer\",\n",
    ")"
   ]
  },
  {
   "cell_type": "code",
   "execution_count": 11,
   "metadata": {
    "colab": {
     "base_uri": "https://localhost:8080/"
    },
    "id": "Qhg6MfRBWfXF",
    "outputId": "a54df7cd-ee45-4af4-d1e5-bedab02dc4d9"
   },
   "outputs": [
    {
     "name": "stdout",
     "output_type": "stream",
     "text": [
      "Trial 10 Complete [00h 03m 01s]\n",
      "accuracy: 0.37027083337306976\n",
      "\n",
      "Best accuracy So Far: 0.9781145751476288\n",
      "Total elapsed time: 00h 48m 08s\n",
      "INFO:tensorflow:Oracle triggered exit\n"
     ]
    }
   ],
   "source": [
    "tuner.search(\n",
    "    train_images_flattened,\n",
    "    train_labels,\n",
    "    epochs=20,\n",
    "    validation_split=0.2,\n",
    "    callbacks=[stop_early],\n",
    ")"
   ]
  },
  {
   "cell_type": "code",
   "execution_count": 20,
   "metadata": {
    "colab": {
     "base_uri": "https://localhost:8080/"
    },
    "id": "QPmW3KZlhE8k",
    "outputId": "a9662bbc-499e-48f7-c3c9-a2c1a0ce5675"
   },
   "outputs": [
    {
     "name": "stdout",
     "output_type": "stream",
     "text": [
      "Results summary\n",
      "Results in DR-TRIALS/Digit Recognizer\n",
      "Showing 2 best trials\n",
      "Objective(name='accuracy', direction='max')\n",
      "Trial summary\n",
      "Hyperparameters:\n",
      "units: 384\n",
      "dropout: False\n",
      "learning_rate: 0.0005034672825968825\n",
      "Score: 0.9781145751476288\n",
      "Trial summary\n",
      "Hyperparameters:\n",
      "units: 336\n",
      "dropout: False\n",
      "learning_rate: 0.001808505727398475\n",
      "Score: 0.9672395884990692\n"
     ]
    }
   ],
   "source": [
    "# get the summary for the top 2\n",
    "tuner.results_summary(2)"
   ]
  },
  {
   "cell_type": "code",
   "execution_count": 21,
   "metadata": {
    "id": "Ioysyl17YF7a"
   },
   "outputs": [],
   "source": [
    "# store best model\n",
    "model = tuner.get_best_models()[0]"
   ]
  },
  {
   "cell_type": "code",
   "execution_count": 22,
   "metadata": {
    "colab": {
     "base_uri": "https://localhost:8080/"
    },
    "id": "cyR5RWtEYRLj",
    "outputId": "4aa60808-810a-41f8-d4ea-95a4f7ed96ca"
   },
   "outputs": [
    {
     "name": "stdout",
     "output_type": "stream",
     "text": [
      "Model: \"Digit-Recognizer\"\n",
      "_________________________________________________________________\n",
      " Layer (type)                Output Shape              Param #   \n",
      "=================================================================\n",
      " hidden_layer_1 (Dense)      (None, 384)               301440    \n",
      "                                                                 \n",
      " gaussian_noise (GaussianNoi  (None, 384)              0         \n",
      " se)                                                             \n",
      "                                                                 \n",
      " output_layer_2 (Dense)      (None, 10)                3850      \n",
      "                                                                 \n",
      "=================================================================\n",
      "Total params: 305,290\n",
      "Trainable params: 305,290\n",
      "Non-trainable params: 0\n",
      "_________________________________________________________________\n"
     ]
    }
   ],
   "source": [
    "model.summary()"
   ]
  },
  {
   "cell_type": "code",
   "execution_count": 23,
   "metadata": {
    "colab": {
     "base_uri": "https://localhost:8080/"
    },
    "id": "7rw_LxINbrgq",
    "outputId": "cc5431d8-1094-477c-fefc-d41185d9e224"
   },
   "outputs": [
    {
     "name": "stdout",
     "output_type": "stream",
     "text": [
      "313/313 [==============================] - 1s 2ms/step - loss: 0.0881 - accuracy: 0.9735\n"
     ]
    },
    {
     "data": {
      "text/plain": [
       "[0.08809848874807358, 0.9735000133514404]"
      ]
     },
     "execution_count": 23,
     "metadata": {},
     "output_type": "execute_result"
    }
   ],
   "source": [
    "model.evaluate(test_images_flattened, test_labels)"
   ]
  },
  {
   "cell_type": "code",
   "execution_count": 24,
   "metadata": {
    "colab": {
     "base_uri": "https://localhost:8080/"
    },
    "id": "tZHBUD3SQFDP",
    "outputId": "fd2ee08f-d775-4c7b-dc23-07e4fcd90be3"
   },
   "outputs": [
    {
     "name": "stdout",
     "output_type": "stream",
     "text": [
      "Predicted Digits:  [7, 2, 1, 0, 4]\n",
      "Actual Digits:  [7 2 1 0 4]\n"
     ]
    }
   ],
   "source": [
    "predicted_images = model.predict(test_images_flattened)\n",
    "predicted_labels = [np.argmax(predicted_digit) for predicted_digit in predicted_images]\n",
    "print(\"Predicted Digits: \", predicted_labels[:5])\n",
    "print(\"Actual Digits: \", test_labels[:5])"
   ]
  },
  {
   "cell_type": "code",
   "execution_count": 25,
   "metadata": {
    "colab": {
     "base_uri": "https://localhost:8080/",
     "height": 592
    },
    "id": "Fop6CO9IMTaH",
    "outputId": "c0e94e56-b12f-426a-b244-fc4ae9d3e3f0"
   },
   "outputs": [
    {
     "data": {
      "image/png": "[encoded data removed]",
      "text/plain": [
       "<Figure size 864x720 with 2 Axes>"
      ]
     },
     "metadata": {
      "needs_background": "light"
     },
     "output_type": "display_data"
    }
   ],
   "source": [
    "confusion_matrix = tf.math.confusion_matrix(\n",
    "    labels=test_labels, predictions=predicted_labels, num_classes=10\n",
    ")\n",
    "\n",
    "plt.figure(figsize=(12, 10))\n",
    "sns.heatmap(confusion_matrix, annot=True, fmt=\"d\")\n",
    "plt.show()"
   ]
  },
  {
   "cell_type": "markdown",
   "metadata": {
    "id": "iSNbe8G3q2FH"
   },
   "source": [
    "## Retrain the model"
   ]
  },
  {
   "cell_type": "code",
   "execution_count": 37,
   "metadata": {
    "colab": {
     "base_uri": "https://localhost:8080/"
    },
    "id": "SkfUbBKAq6Ws",
    "outputId": "6a08dca1-cea9-426b-bc1e-35a3f87da53e"
   },
   "outputs": [
    {
     "name": "stdout",
     "output_type": "stream",
     "text": [
      "Epoch 1/10\n",
      "2188/2188 [==============================] - 11s 5ms/step - loss: 0.4597 - accuracy: 0.8629\n",
      "Epoch 2/10\n",
      "2188/2188 [==============================] - 12s 6ms/step - loss: 0.2782 - accuracy: 0.9171\n",
      "Epoch 3/10\n",
      "2188/2188 [==============================] - 14s 6ms/step - loss: 0.2068 - accuracy: 0.9379\n",
      "Epoch 4/10\n",
      "2188/2188 [==============================] - 15s 7ms/step - loss: 0.1676 - accuracy: 0.9500\n",
      "Epoch 5/10\n",
      "2188/2188 [==============================] - 11s 5ms/step - loss: 0.1468 - accuracy: 0.9557\n",
      "Epoch 6/10\n",
      "2188/2188 [==============================] - 9s 4ms/step - loss: 0.1303 - accuracy: 0.9602\n",
      "Epoch 7/10\n",
      "2188/2188 [==============================] - 9s 4ms/step - loss: 0.1174 - accuracy: 0.9643\n",
      "Epoch 8/10\n",
      "2188/2188 [==============================] - 10s 4ms/step - loss: 0.1091 - accuracy: 0.9656\n",
      "Epoch 9/10\n",
      "2188/2188 [==============================] - 10s 5ms/step - loss: 0.1004 - accuracy: 0.9689\n",
      "Epoch 10/10\n",
      "2188/2188 [==============================] - 11s 5ms/step - loss: 0.0939 - accuracy: 0.9712\n"
     ]
    },
    {
     "data": {
      "text/plain": [
       "<keras.callbacks.History at 0x7f888179b210>"
      ]
     },
     "execution_count": 37,
     "metadata": {},
     "output_type": "execute_result"
    }
   ],
   "source": [
    "# get the best hyperparameters\n",
    "best_hps = tuner.get_best_hyperparameters()[0]\n",
    "# build the model with the best hyperparameters\n",
    "model = build_model(best_hps)\n",
    "# concatenate train and test images, labels\n",
    "all_images = np.concatenate((train_images_flattened, test_images_flattened))\n",
    "\n",
    "all_labels = np.concatenate((train_labels, test_labels))\n",
    "\n",
    "# fit the model with all images\n",
    "model.fit(x=all_images, y=all_labels, epochs=10)"
   ]
  },
  {
   "cell_type": "markdown",
   "metadata": {
    "id": "heSSlKLq-GMV"
   },
   "source": [
    "## Save Model"
   ]
  },
  {
   "cell_type": "code",
   "execution_count": 38,
   "metadata": {
    "colab": {
     "base_uri": "https://localhost:8080/"
    },
    "id": "jsX0A6x0-JI8",
    "outputId": "525e9128-92f7-4d14-c4d0-d375a33aead4"
   },
   "outputs": [
    {
     "name": "stdout",
     "output_type": "stream",
     "text": [
      "INFO:tensorflow:Assets written to: Keras-784x10-5epoch/assets\n"
     ]
    }
   ],
   "source": [
    "# save the model\n",
    "model.save(\"Keras-784x10-5epoch\")\n",
    "# convert the model into tfjs\n",
    "tfjs.converters.save_keras_model(model, \"model_v04\")"
   ]
  },
  {
   "cell_type": "code",
   "execution_count": null,
   "metadata": {
    "id": "4CSn7l8sx8AQ"
   },
   "outputs": [],
   "source": []
  }
 ],
 "metadata": {
  "colab": {
   "collapsed_sections": [],
   "name": "FNN-Digit-Recognition.ipynb",
   "provenance": []
  },
  "kernelspec": {
   "display_name": "Python 3",
   "name": "python3"
  },
  "language_info": {
   "name": "python"
  }
 },
 "nbformat": 4,
 "nbformat_minor": 0
}
